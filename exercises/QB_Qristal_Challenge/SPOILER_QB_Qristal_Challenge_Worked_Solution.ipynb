{
 "cells": [
  {
   "cell_type": "markdown",
   "id": "2b0500a5",
   "metadata": {},
   "source": [
    "# Quantum Brilliance Qristal Challenge\n",
    "The goal of this challenge is to solve a puzzle that is actually a small optimization problem in disguise, using a well-known quantum algorithm.  That algorithm is the so-called exponential search, also known as Grover's algorithm. This Jupyter notebook guides you through the steps needed to create your own version of this algorithm. We will explore what a qubit is, how to manipulate qubits, and which subroutines are needed for the Grover algorithm. \n",
    " \n",
    "If you get stuck, you can find solutions in the same folder as this file."
   ]
  },
  {
   "cell_type": "markdown",
   "id": "9bde0f35",
   "metadata": {},
   "source": [
    "## Getting Started"
   ]
  },
  {
   "cell_type": "markdown",
   "id": "26da993f",
   "metadata": {},
   "source": [
    "### Qubits and Quantum Circuits"
   ]
  },
  {
   "cell_type": "markdown",
   "id": "51814b2e",
   "metadata": {},
   "source": [
    "Measuring the state of a qubit ends its role in the calculation. This is in contrast to classical bits, whose values can be read and used elsewhere whilst allowing the calculation to continue.\n",
    "A qubit is generally in a superposition of $|0\\rangle$ and $|1\\rangle$, which are the computational basis states.  However, only one of these two values is returned upon measurement. The probability to measure one or the other is given by the absolute square of the respective amplitude $$\\vert\\psi\\rangle = \\cos\\frac{\\theta}{2}\\vert 0\\rangle + e^{i \\phi} \\sin\\frac{\\theta}{2}\\vert1\\rangle$$ $$0<\\theta<\\pi,\\ 0<\\phi<2\\pi$$\n",
    "<center><img src=\"Bloch3.png\" width=\"400\" height=\"400\">\n",
    "\n",
    "The instructions to manipulate qubits are often referred to as a \"quantum circuit\". The qubits are usually initialized in the $|0\\rangle$ state. The circuit typically consists of a sequence of operations called \"gates\" acting on one or more qubits. Therefore, this model of quantum computing is also called \"gate-based\" quantum computing. In the final layer of the quantum circuit one specifies which qubits are to be measured.\n",
    "\n",
    "As the measurement outcomes of superposition states are random, one often needs to run the circuit multiple times. These repetitions are called shots. From the distribution of results that one obtains over a series of shots, one can then compute expectation values or extract only the most likely outcome. The precision of the expectation value or the confidence in a certain sample depends on the number of shots i.e, the shot noise.\n",
    "\n",
    "Qubits are fragile objects. Any interaction with the environment can destroy the quantum properties of the qubit very much like a measurement. The longer the qubit can maintain its quantumness -- its coherence -- the more operations can be applied to it. The Quantum Brilliance emulator can include this noise in its simulations if desired."
   ]
  },
  {
   "cell_type": "markdown",
   "id": "ccf20447",
   "metadata": {},
   "source": [
    "### Circuits: Basic Methods\n",
    "\n",
    "| Name | Inputs | Outputs | Descriptions |\n",
    "| --- | --- | --- | --- |\n",
    "| print | None | None  | Print the quantum circuit that has been built. |\n",
    "| openqasm | None | str | Get the OpenQASM representation of the circuit. |\n",
    "| append | arg0: qbos.Circuit | None | Append another quantum circuit to this circuit. |\n",
    "| h | qubit: int | None | Add Hadamard gate |\n",
    "| x | qubit: int | None | Add Pauli-X gate |\n",
    "| y | qubit: int | None | Add Pauli-Y gate |\n",
    "| z | qubit: int | None | Add Pauli-Z gate |\n",
    "| u1 | qubit: int, theta: float | None | Add $U_1(\\theta)$ gate |\n",
    "| u3 | qubit: int, theta: float, phi: float, lambda:float | None | Add $U_3(\\theta, \\phi, \\lambda)$ gate |\n",
    "| t | qubit: int | None | Add T gate |\n",
    "| tdg | qubit: int | None | Add T-dagger gate |\n",
    "| s | qubit: int | None | Add S gate |\n",
    "| sdg | qubit: int | None | Add S-dagger gate |\n",
    "| rx | qubit: int, theta: float | None | Add rotation around X gate ($R_x(\\theta)$) |\n",
    "| ry | qubit: int, theta: float | None | Add rotation around Y gate ($R_y(\\theta)$) |\n",
    "| rz | qubit: int, theta: float | None | Add rotation around Z gate ($R_y(\\theta)$) |\n",
    "| cx | control_qubit: int, target_qubit: int | None | Add Controlled-X gate |\n",
    "| mcx | control_qubits: array[int], target_qubit: int | None | Add Multi-controlled-X gate (control qubits are given as a list of indices) |\n",
    "| generalised_mcx | target: int, controls_on: array[int], controls_off: array[int] | None | Add Multi-controlled-X gate conditional on controls_on being $\\vert1\\rangle$ and controls_off being $\\vert0\\rangle$. |\n",
    "| amcu | U: CircuitBuilder, control_qubits: array[int], ancilla_qubits: array[int] | None | Add multi-controlled-U gate using ancillary qubits |\n",
    "| ccx | control_qubit1: int, control_qubit2: int, target_qubit: int | None | Add CCNOT (Toffoli gate) |\n",
    "| swap | qubit1: int, qubit2: int | None | Add SWAP gate |\n",
    "| controlled_swap | qubits_a: array[int], qubits_b: array[int], flags_on: array[int], flags_off: array[int] | None | Add SWAP operation between register a and register b conditional on on flags being $\\vert1\\rangle$ and off flags being $\\vert0\\rangle$. |\n",
    "| cphase | control_qubit: int, target_qubit: int, theta: float | None | Add controlled-phase rotation gate (also known as $CU_1(\\theta)$ gate) |\n",
    "| cz | control_qubit: int, target_qubit: int | None | Add Controlled-Z gate |\n",
    "| ch | control_qubit: int, target_qubit: int | None | Add Controlled-Hadamard gate |\n",
    "| measure | qubit: int | None | Add Measure to a qubit |\n",
    "| measure_all | None | None | Add Measure to all qubits in the circuit |"
   ]
  },
  {
   "cell_type": "markdown",
   "id": "1324bfff",
   "metadata": {},
   "source": [
    "### Creating circuits using QASM\n",
    "There are several options to create quantum circuits. A very low-level language is the Quantum Assembly Language (QASM) https://en.wikipedia.org/wiki/OpenQASM."
   ]
  },
  {
   "cell_type": "markdown",
   "id": "1626689f",
   "metadata": {},
   "source": [
    "#### Example 1: Initialise and measure a qubit\n",
    "In the QASM string one specifies the names of the qubit and classical registers. By default, qubits are initialised to $\\vert0\\rangle$, so there is nothing to be done. At the end of every quantum circuit one needs to specify which qubits are to be measured. We then create a QB SDK session and specify a few parameters, such as the number of shots, the number of qubits, and the backend (hardware or simulted hardware) on which the circuit should be executed. We also must assign the circuit, and finally run it."
   ]
  },
  {
   "cell_type": "code",
   "execution_count": null,
   "id": "4748fe28",
   "metadata": {},
   "outputs": [],
   "source": [
    "#Import the Qristal core\n",
    "import qristal.core\n",
    "\n",
    "# Define the quantum program to run (aka 'quantum kernel' aka 'quantum circuit')\n",
    "initialize_and_measure = '''\n",
    "__qpu__ void MY_QUANTUM_CIRCUIT(qreg q)\n",
    "{\n",
    "  OPENQASM 2.0;\n",
    "  include \"qelib1.inc\";\n",
    "  creg c[1];\n",
    "  measure q[0] -> c[0];\n",
    "}\n",
    "'''\n",
    "\n",
    "# Create a quantum computing session using the QB SDK\n",
    "my_sim = qristal.core.session()\n",
    "\n",
    "# Set the number of qubits\n",
    "my_sim.qn = 1\n",
    "\n",
    "# Choose a simulator backend\n",
    "my_sim.acc = \"aer\"\n",
    "\n",
    "# Choose how many 'shots' to run through the circuit\n",
    "my_sim.sn = 1000\n",
    "\n",
    "# Choose to output results for all possible bit combinations, not just those measured\n",
    "my_sim.calc_all_bitstring_counts = True\n",
    "\n",
    "# assign the circuit to instring\n",
    "my_sim.instring = initialize_and_measure\n",
    "\n",
    "# Run the circuit 1000 times and count up the results in each of the classical registers\n",
    "print(\"About to run quantum program...\")\n",
    "my_sim.run()\n",
    "print(\"Ran successfully!\")\n",
    "\n",
    "# Print the cumulative results in each of the classical registers\n",
    "print(\"Results:\")\n",
    "print(my_sim.results)"
   ]
  },
  {
   "cell_type": "markdown",
   "id": "6a88111c",
   "metadata": {},
   "source": [
    "#### Example 2: Include Noise\n",
    "Next, we will run the same circuit again, but this time we include noise. The QB SDK Emulator can emulate different sources of noise. The sources for errors in quantum computers are initialisation, measurement and calibration errors, as well as decoherence."
   ]
  },
  {
   "cell_type": "code",
   "execution_count": null,
   "id": "2350470f",
   "metadata": {},
   "outputs": [],
   "source": [
    "# Turn on the noise\n",
    "my_sim.noise = True\n",
    "\n",
    "# Run the circuit 1000 times and count up the results in each of the classical registers\n",
    "print(\"About to run quantum program...\")\n",
    "my_sim.run()\n",
    "print(\"Ran successfully!\")\n",
    "\n",
    "# Print the cumulative results in each of the classical registers\n",
    "print(\"Results:\")\n",
    "print(my_sim.results)\n",
    "\n",
    "# Turn off the noise for now\n",
    "my_sim.noise = False"
   ]
  },
  {
   "cell_type": "markdown",
   "id": "faeafdc0",
   "metadata": {},
   "source": [
    "Real quantum computers are physical devices. Here we can see that real qubits are not always perfectly initialised or measured."
   ]
  },
  {
   "cell_type": "code",
   "execution_count": null,
   "id": "dada23ba",
   "metadata": {},
   "outputs": [],
   "source": [
    "# Plot a histogram of the result\n",
    "import numpy as np\n",
    "import matplotlib.pyplot as plt\n",
    "from pylab import figure, show, legend, ylabel\n",
    "fig1 = figure()\n",
    "ax1 = fig1.add_subplot(111)\n",
    "xdat=[format(iix,'01b') for iix in range(len(my_sim.all_bitstring_counts))]\n",
    "ydat=my_sim.all_bitstring_counts\n",
    "ax1.bar(xdat,ydat)\n",
    "plt.yticks(np.arange(0, 1001, step=100))\n",
    "plt.xlabel(\"States\")\n",
    "plt.ylabel(\"Shots measured\")"
   ]
  },
  {
   "cell_type": "markdown",
   "id": "9ade6b67",
   "metadata": {},
   "source": [
    "#### Exercise 1: Gate Operation in QASM\n",
    "Explore the action of the x gate. What would you call the analogous classical gate?\n",
    "Hint: Use the table at the beginning of this section."
   ]
  },
  {
   "cell_type": "code",
   "execution_count": null,
   "id": "1599eb74",
   "metadata": {},
   "outputs": [],
   "source": [
    "### Create a quantum circuit with an gate and measure using QASM code. Make sure you name your circuit \"x_gate_circuit\".\n",
    "####\n",
    "\n",
    "x_gate_circuit = '''\n",
    "__qpu__ void MY_QUANTUM_CIRCUIT(qreg q)\n",
    "{\n",
    "  OPENQASM 2.0;\n",
    "  include \"qelib1.inc\";\n",
    "  creg c[1];\n",
    "  x q[0];\n",
    "  measure q[0] -> c[0];\n",
    "}\n",
    "'''\n",
    "\n",
    "####"
   ]
  },
  {
   "cell_type": "markdown",
   "id": "6c44e6d1",
   "metadata": {},
   "source": [
    "#### Exercise 2: The Hadamard gate with QASM\n",
    "The Hadamard gate plays a special role among the single qubit gates. It generates an equal superposition state, which can be understood as generating a change of basis. After plotting your results you should see approximately 50% 0s and 50% 1s. https://en.wikipedia.org/wiki/Quantum_logic_gate#Hadamard_gate"
   ]
  },
  {
   "cell_type": "code",
   "execution_count": null,
   "id": "7ee5098f",
   "metadata": {},
   "outputs": [],
   "source": [
    "### Create a quantum circuit with a Hadamard gate and measure. Run the circuit 500 times and plot the results.\n",
    "####\n",
    "\n",
    "h_circuit = '''\n",
    "__qpu__ void MY_QUANTUM_CIRCUIT(qreg q)\n",
    "{\n",
    "  OPENQASM 2.0;\n",
    "  include \"qelib1.inc\";\n",
    "  creg c[1];\n",
    "  h q[0];\n",
    "  measure q[0] -> c[0];\n",
    "}\n",
    "'''\n",
    "\n",
    "my_sim.instring = h_circuit\n",
    "my_sim.sn = 1000\n",
    "# Run the circuit 1000 times and count up the results in each of the classical registers\n",
    "print(\"About to run quantum program...\")\n",
    "my_sim.run()\n",
    "print(\"Ran successfully!\")\n",
    "\n",
    "# Print the cumulative results in each of the classical registers\n",
    "print(\"Results:\")\n",
    "print(my_sim.results)\n",
    "\n",
    "# Plot a histogram of the result\n",
    "import numpy as np\n",
    "import matplotlib.pyplot as plt\n",
    "from pylab import figure, show, legend, ylabel\n",
    "fig1 = figure()\n",
    "ax1 = fig1.add_subplot(111)\n",
    "xdat=[format(iix,'01b') for iix in range(len(my_sim.all_bitstring_counts))]\n",
    "ydat=my_sim.all_bitstring_counts\n",
    "ax1.bar(xdat,ydat)\n",
    "plt.yticks(np.arange(0, 1001, step=100))\n",
    "plt.xlabel(\"States\")\n",
    "plt.ylabel(\"Shots measured\")\n",
    "####"
   ]
  },
  {
   "cell_type": "markdown",
   "id": "adc4383c",
   "metadata": {},
   "source": [
    "#### Exercise 3: Quantum vs. classical coin flips\n",
    "Given the result above, one is tempted interpret the action of the Hadamard gate as a quantum coin flip. However, as can be seen in this exercise, two consecutive Hadamard operations yield a very different result compared to the classical analogue of flipping a coin twice. Interpret the result."
   ]
  },
  {
   "cell_type": "code",
   "execution_count": null,
   "id": "057e8c98",
   "metadata": {},
   "outputs": [],
   "source": [
    "### Create a quantum circuit with two Hadamard gates. Measure.\n",
    "### Run 500 shots, print the results and try to find out what happened.\n",
    "####\n",
    "\n",
    "two_h = '''\n",
    "__qpu__ void MY_QUANTUM_CIRCUIT(qreg q)\n",
    "{\n",
    "  OPENQASM 2.0;\n",
    "  include \"qelib1.inc\";\n",
    "  creg c[1];\n",
    "  h q[0];\n",
    "  h q[0];\n",
    "  measure q[0] -> c[0];\n",
    "}\n",
    "'''\n",
    "\n",
    "my_sim.instring = two_h\n",
    "my_sim.sn = 500\n",
    "\n",
    "# Run the circuit\n",
    "print(\"About to run quantum program...\")\n",
    "my_sim.run()\n",
    "print(\"Ran successfully!\")\n",
    "\n",
    "# Print the cumulative results\n",
    "print(\"Results:\")\n",
    "print(my_sim.results)"
   ]
  },
  {
   "cell_type": "markdown",
   "id": "6fd8fe9c",
   "metadata": {},
   "source": [
    "#### Exercise 4: The entangling gate\n",
    "The true power of quantum computing comes from combining the two fundamental principles: superposition and entanglement. The simplest entangling gates act on two qubits.  For many quantum computing platforms, this is also the maximal number of qubits a so-called native entangling gate can act on. On many of the platforms, controlled NOT gates are standard, and we will also use them here. https://en.wikipedia.org/wiki/Quantum_logic_gate#Controlled_gates\n",
    "\n",
    "Now we will create the $\\vert \\Phi^+\\rangle$-Bell state! https://en.wikipedia.org/wiki/Bell_state"
   ]
  },
  {
   "cell_type": "code",
   "execution_count": null,
   "id": "0c844e9c",
   "metadata": {},
   "outputs": [],
   "source": [
    "### Create a quantum circuit that generates the Bell state |Phi+>. Run the circuit 500 times and plot the results.\n",
    "####\n",
    "\n",
    "phi_plus = '''\n",
    "__qpu__ void MY_QUANTUM_CIRCUIT(qreg q)\n",
    "{\n",
    "  OPENQASM 2.0;\n",
    "  include \"qelib1.inc\";\n",
    "  creg c[2];\n",
    "  h q[0];\n",
    "  cx q[0], q[1];\n",
    "  measure q[0] -> c[0];\n",
    "  measure q[1] -> c[1];\n",
    "}\n",
    "'''\n",
    "\n",
    "my_sim.instring = phi_plus\n",
    "my_sim.sn = 500\n",
    "my_sim.qn = 2\n",
    "# Run the circuit 500 times and count up the results in each of the classical registers\n",
    "print(\"About to run quantum program...\")\n",
    "my_sim.run()\n",
    "print(\"Ran successfully!\")\n",
    "\n",
    "# Print the cumulative results in each of the classical registers\n",
    "print(\"Results:\")\n",
    "print(my_sim.results)\n",
    "\n",
    "# Plot a histogram of the result\n",
    "import numpy as np\n",
    "import matplotlib.pyplot as plt\n",
    "from pylab import figure, show, legend, ylabel\n",
    "fig1 = figure()\n",
    "ax1 = fig1.add_subplot(111)\n",
    "xdat=[format(iix,'01b') for iix in range(len(my_sim.all_bitstring_counts))]\n",
    "ydat=my_sim.all_bitstring_counts\n",
    "ax1.bar(xdat,ydat)\n",
    "plt.yticks(np.arange(0, 1001, step=100))\n",
    "plt.xlabel(\"States\")\n",
    "plt.ylabel(\"Shots measured\")"
   ]
  },
  {
   "cell_type": "markdown",
   "id": "7b2e2572",
   "metadata": {},
   "source": [
    "#### Example 4: Initialise and measure a qubit using the Quantum Brilliance Circuit Builder\n",
    "The QB SDK provides a \"Circuit\" class for users to construct quantum circuits from elementary gates, such as X, Y, Z, Hadamard, CNOT, etc. One simply appends one gate after the other. Before running the quantum circuit one assigns it using the \"ir_target\" to the session. Make sure that the \"instring\" method is cleared."
   ]
  },
  {
   "cell_type": "code",
   "execution_count": null,
   "id": "ab8c2881",
   "metadata": {},
   "outputs": [],
   "source": [
    "# Create an empty circuit with a x gate\n",
    "simple_circuit = qristal.core.Circuit()\n",
    "# Add an x gate on qubit 0\n",
    "simple_circuit.x(0)\n",
    "# Measure all qubits in the circuit\n",
    "simple_circuit.measure_all()\n",
    "\n",
    "# Choose a simulator backend\n",
    "my_sim.acc = \"qpp\"\n",
    "# Choose how many 'shots' to run through the circuit\n",
    "my_sim.sn = 100\n",
    "# Choose how many qubits to simulate\n",
    "my_sim.qn = 1\n",
    "# Set the circuit, taking care to remove the instring from the previous example\n",
    "my_sim.instring = \"\"\n",
    "my_sim.irtarget = simple_circuit\n",
    "# Run the circuit\n",
    "my_sim.run()\n",
    "print(\"Results:\")\n",
    "print(my_sim.results)"
   ]
  },
  {
   "cell_type": "markdown",
   "id": "bbba6bc4",
   "metadata": {},
   "source": [
    "#### Exercise 5: More Bell states\n",
    "Create all of the 4 Bell states $\\vert \\Phi^+\\rangle$, $\\vert \\Phi^-\\rangle$, $\\vert \\Psi^+\\rangle$, $\\vert \\Psi^-\\rangle$ using the circuit builder.\n",
    "Hint: start recreating your circuit in Exercise 3 and apply the appropriate single qubit gates at the right places. Note that in the results, the relative phase in the different Bell states cannot be observed."
   ]
  },
  {
   "cell_type": "code",
   "execution_count": null,
   "id": "9fdc0ca2",
   "metadata": {},
   "outputs": [],
   "source": [
    "### Create quantum circuits that generate the Bell state |Phi+> with the QB circuit builder. Run the circuit and print the results.\n",
    "\n",
    "####\n",
    "\n",
    "phi_plus = qristal.core.Circuit()\n",
    "phi_plus.h(0)\n",
    "phi_plus.cnot(0,1)\n",
    "phi_plus.measure_all()\n",
    "\n",
    "phi_minus = qristal.core.Circuit()\n",
    "phi_minus.h(0)\n",
    "phi_minus.cnot(0,1)\n",
    "phi_minus.z(0)\n",
    "phi_minus.measure_all()\n",
    "\n",
    "psi_plus = qristal.core.Circuit()\n",
    "psi_plus.h(0)\n",
    "psi_plus.cnot(0,1)\n",
    "psi_plus.x(0)\n",
    "psi_plus.measure_all()\n",
    "\n",
    "psi_minus = qristal.core.Circuit()\n",
    "psi_minus.h(0)\n",
    "psi_minus.cnot(0,1)\n",
    "psi_minus.z(0)\n",
    "psi_minus.x(0)\n",
    "psi_minus.measure_all()\n",
    "\n",
    "for circuit in [phi_plus, phi_minus, psi_plus, psi_minus]:\n",
    "  my_sim = qristal.core.session()\n",
    "  my_sim.sn = 500\n",
    "  my_sim.qn = 2\n",
    "  my_sim.irtarget = circuit\n",
    "  my_sim.run()\n",
    "  print(\"Results:\")\n",
    "  print(my_sim.results,\"\\n\")"
   ]
  },
  {
   "cell_type": "markdown",
   "id": "efa53f78",
   "metadata": {},
   "source": [
    "### Get access to a high-dimensional space\n",
    "We will now start to explore how quantum computing can help with combinatorial optimization problems. The Hadamard gate creates an equal weighted superposition of the $\\vert0\\rangle$ and $\\vert1\\rangle$ states. Hence one qubit gives access to a (complex) two dimensional vector space (restricted to vectors of unit length, due to the need for all probabilities to sum to one). Let us see how we can access a $2^n$-dimensional space using only $n$ qubits.\n",
    "Consider a multidimensional decision problem. Each of the $2^n$ possible decisions can be represented in a quantum bitstring of length $n$."
   ]
  },
  {
   "cell_type": "markdown",
   "id": "4399e990",
   "metadata": {},
   "source": [
    "#### Exercise 6: Create an equal superposition of $n$ qubits.\n",
    "Take care to create a void function i.e., one where the circuit is defined and manipulated only, and no return value is given."
   ]
  },
  {
   "cell_type": "code",
   "execution_count": null,
   "id": "f3773781",
   "metadata": {},
   "outputs": [],
   "source": [
    "### Create a quantum circuit with an equal superposition state on n qubits.\n",
    "# Note: do not change the function name!\n",
    "\n",
    "def state_preparation(circuit, n_qubits):\n",
    "    ####\n",
    "\n",
    "    # Add Hadamard gate on each qubit\n",
    "    for i in range(n_qubits):\n",
    "        circuit.h(i)\n",
    "        \n",
    "    ####\n",
    "\n",
    "### Run the circuit 1000 times and print, for n_qubits = 4.\n",
    "\n",
    "# Choose a simulator backend\n",
    "my_sim.acc = \"qpp\"\n",
    "# Choose how many 'shots' to run through the circuit\n",
    "my_sim.sn = 1000\n",
    "# Choose how many qubits to simulate\n",
    "my_sim.qn = 4\n",
    "#set the circuit\n",
    "state_prep = qristal.core.Circuit()\n",
    "state_preparation(state_prep, my_sim.qn)\n",
    "state_prep.measure_all()\n",
    "my_sim.irtarget = state_prep\n",
    "#run the circuit\n",
    "my_sim.run()\n",
    "print(\"Results:\")\n",
    "print(my_sim.results)"
   ]
  },
  {
   "cell_type": "markdown",
   "id": "23aeb63d",
   "metadata": {},
   "source": [
    "## Amplify the desired state\n",
    "It is nice that qubits allow us to represent all possible bit stings at once, but what we really want is to find the most optimal or desired state. As a first step, we need to mark this state somehow (or mark several desired states). We can achieve this by multiplying those states with a negative sign. Operations that distinguish certain states are often referred to as oracles. https://cnot.io/quantum_algorithms/grover/grovers_algorithm.html"
   ]
  },
  {
   "cell_type": "markdown",
   "id": "56454423",
   "metadata": {},
   "source": [
    "### Oracles\n",
    "Note that the z gate only changes the sign of the $\\vert1\\rangle$ state. Using controlled z-gates, which also become active if the control qubit is in the $\\vert1\\rangle$ state, we can construct oracles. Consider for example the equal superposition state of 2 qubits.\n",
    "$$cz:\\  \\vert\\psi\\rangle = \\frac{1}{2}\\left(\\vert00\\rangle + \\vert01\\rangle + \\vert10\\rangle + \\vert11\\rangle\\right)\\rightarrow\\frac{1}{2}\\left(\\vert00\\rangle + \\vert01\\rangle + \\vert10\\rangle - \\vert11\\rangle\\right)$$\n",
    "The cz-gate marks the $\\vert11\\rangle$ state only.\n",
    "\n",
    "We can also mark any other state by operating with x gates before and after the action of the cz gate on the appropriate qubits.\n",
    "    \n",
    "Next let us consider 3 qubits. The available gate set only offers multi-controlled x gates. However, we can easily construct a multi-controlled z gate using the Hadamard gate. Here we exploit the relation: $z = h x h$"
   ]
  },
  {
   "cell_type": "markdown",
   "id": "0b4d46a3",
   "metadata": {},
   "source": [
    "#### Example 4: Oracle for the 010 state"
   ]
  },
  {
   "cell_type": "code",
   "execution_count": null,
   "id": "d77b9a44",
   "metadata": {},
   "outputs": [],
   "source": [
    "### Create a quantum circuit that marks the 010 state by inverting the sign of its coefficient. It should take any previously prepared circuit as an input argument.\n",
    "\n",
    "def oracle(circuit):\n",
    "    circuit.x(0)\n",
    "    circuit.x(2)\n",
    "    circuit.h(2)\n",
    "    circuit.mcx([0,1],2)\n",
    "    circuit.h(2)\n",
    "    circuit.x(0)\n",
    "    circuit.x(2)"
   ]
  },
  {
   "cell_type": "markdown",
   "id": "bdd91814",
   "metadata": {},
   "source": [
    "### Amplification (Diffusion)\n",
    "Now that we have marked the desired state, we need to amplify its quantum amplitude to give it a high probability to appear when the system is measured. We will again do this using a reflection, this time about the mean probability of the state. How this is constructed as a gate sequence is bit more complicated, and details can be found in the reference at the beginning of the section. The construction principle is always the same: apply Hadamard gates to all query qubits, flip all qubits, flip the sign if all qubits are in the one state, flip all qubits, and then apply Hadamard gates to all query qubits."
   ]
  },
  {
   "cell_type": "markdown",
   "id": "99a5ba63",
   "metadata": {},
   "source": [
    "#### Example 5: Diffusion Circuit"
   ]
  },
  {
   "cell_type": "code",
   "execution_count": null,
   "id": "c6f07864",
   "metadata": {},
   "outputs": [],
   "source": [
    "def diffusion_circuit(circuit, n_qubits):\n",
    "    for i in range(n_qubits):\n",
    "        circuit.h(i)\n",
    "    for i in range(n_qubits):\n",
    "        circuit.x(i)\n",
    "    circuit.h(n_qubits-1)\n",
    "    circuit.mcx(list(range(n_qubits-1)),n_qubits-1)\n",
    "    circuit.h(n_qubits-1)\n",
    "    for i in range(n_qubits):\n",
    "        circuit.x(i)    \n",
    "    for i in range(n_qubits):\n",
    "        circuit.h(i)"
   ]
  },
  {
   "cell_type": "markdown",
   "id": "3e4b585d",
   "metadata": {},
   "source": [
    "#### Example 6: The Grover Algorithm\n",
    "- Run the state preparation: consider all possible solutions\n",
    "- Mark the desired state with an oracle: apply a controlled operation (possibly checking the state of an additional qubit register)\n",
    "- Amplify that state.\n",
    "  \n",
    "For $n$ qubits, the oracle and diffusion steps are repeated $\\pi\\sqrt{2^n}/4$ times in order to maximize the amplification. The best known classical algorithms scale linearly, i.e. the Grover search algorithm gives a quadratic speedup for searches in unstructured databases. In our example with 3 qubits, we only need one iteration."
   ]
  },
  {
   "cell_type": "code",
   "execution_count": null,
   "id": "32fcb6a1",
   "metadata": {},
   "outputs": [],
   "source": [
    "my_sim.qn = 3\n",
    "\n",
    "# Grover algorithm\n",
    "my_circuit = qristal.core.Circuit()\n",
    "state_preparation(my_circuit, my_sim.qn)\n",
    "oracle(my_circuit)\n",
    "diffusion_circuit(my_circuit, my_sim.qn)\n",
    "my_circuit.measure_all()\n",
    "\n",
    "# Choose a simulator backend\n",
    "my_sim.acc = \"qpp\"\n",
    "# Choose how many 'shots' to run through the circuit\n",
    "my_sim.sn = 1000\n",
    "# Set the circuit\n",
    "my_sim.irtarget = my_circuit\n",
    "# Turn off optimisation as the mcx gates in the oracle and diffusion circuits cannot be processed by the circuit optimiser.\n",
    "my_sim.nooptimise = True\n",
    "# Run the circuit\n",
    "my_sim.run()\n",
    "print(\"Results:\")\n",
    "print(my_sim.results)"
   ]
  },
  {
   "cell_type": "markdown",
   "id": "d0406499",
   "metadata": {},
   "source": [
    "The state $\\vert010\\rangle$ is the most likely one."
   ]
  },
  {
   "cell_type": "markdown",
   "id": "ad8705d1",
   "metadata": {},
   "source": [
    "## QB Challenge\n",
    "### Switch off the lights\n",
    "\n",
    "A similar challenge to this was given at the Qiskit Quantum Challenge in fall 2020. It beautifully shows how to construct more interesting oracles and how quantum computing can yield an advantage over classical algorithms.\n",
    "\n",
    "The task given to you is to switch off all the lights on a given game board with 9 buttons in a 3x3 array.\n",
    "<center><img src=\"light board.png\" width=\"400\" height=\"400\">\n",
    "\n",
    "The difficulty is that pushing a button not only switches the state of that tile, but also that of all adjacent tiles. For example, pushing button #6 also switches tiles #3 and #7.  The figure below demonstrates this.\n",
    "    \n",
    "<center><img src=\"push button 6.png\" width=\"400\" height=\"400\">\n",
    "    \n",
    "In this challenge we will use the superposition principle to create all possible combinations of pushes, and use entanglement to construct an oracle that finds that combination that switches off all lights."
   ]
  },
  {
   "cell_type": "markdown",
   "id": "abe10b8e",
   "metadata": {},
   "source": [
    "The starting light pattern corresponding to the image above is given by:"
   ]
  },
  {
   "cell_type": "code",
   "execution_count": null,
   "id": "a3664631",
   "metadata": {},
   "outputs": [],
   "source": [
    "lights = [0,0,0,1,0,1,1,1,0]"
   ]
  },
  {
   "cell_type": "markdown",
   "id": "eea756b6",
   "metadata": {},
   "source": [
    "For your convenience we also specify a dictionary that contains which adjacent tiles are switched if a certain button is pushed."
   ]
  },
  {
   "cell_type": "code",
   "execution_count": null,
   "id": "3252a36a",
   "metadata": {},
   "outputs": [],
   "source": [
    "target_tiles_dict = {0:[0,1,3], 1: [0,1,2,4], 2: [1,2,5], 3: [0,3,4,6], 4: [1,3,4,5,7], 5: [2,4,5,8], 6:[3,6,7], 7:[4,6,7,8], 8: [5,7,8]}"
   ]
  },
  {
   "cell_type": "markdown",
   "id": "ac774b96",
   "metadata": {},
   "source": [
    "#### Exercise 7: prepare ancillary qubits (light board)\n",
    "The following function will read in the light board. We will use additional so-called \"ancillary\" qubits to construct the oracle that marks the solution that switches off the lights. "
   ]
  },
  {
   "cell_type": "code",
   "execution_count": null,
   "id": "aae70aef",
   "metadata": {},
   "outputs": [],
   "source": [
    "def prepare_ancillary_state(circuit, lights, n_pushes, n_lights):\n",
    "    ####\n",
    "\n",
    "    for i in range(n_pushes, n_pushes + n_lights):\n",
    "        if lights[i-n_pushes] == 1:\n",
    "            circuit.x(i)\n",
    "    \n",
    "    ####        "
   ]
  },
  {
   "cell_type": "markdown",
   "id": "e2001da9",
   "metadata": {},
   "source": [
    "#### Exercise 8: construct the first part of the oracle\n",
    "The following function switches tiles according to the rules of the game."
   ]
  },
  {
   "cell_type": "code",
   "execution_count": null,
   "id": "fa777f63",
   "metadata": {},
   "outputs": [],
   "source": [
    "def push_buttons(circuit, n_pushes, n_lights, target_tiles_dict):\n",
    "    ####\n",
    "\n",
    "    for i in range(n_pushes):\n",
    "        for adjacent_tile in target_tiles_dict[i]:\n",
    "            circuit.cnot(i, n_pushes + adjacent_tile)\n",
    "    \n",
    "    ####        "
   ]
  },
  {
   "cell_type": "markdown",
   "id": "fe9648c0",
   "metadata": {},
   "source": [
    "#### Exercise 9: Mark the state\n",
    "Now we create an oracle that marks the state with a negative sign if all lights are off. Make sure that you undo any manipulations except for the multicontrolled z-gate, because we need to run the oracle several times. The lights register must return to its original state so that we can run the query again in each iteration. This step is called \"uncompute\"."
   ]
  },
  {
   "cell_type": "code",
   "execution_count": null,
   "id": "57a3e58e",
   "metadata": {},
   "outputs": [],
   "source": [
    "def oracle_light_out(circuit, n_pushes, n_lights):\n",
    "    ####\n",
    "\n",
    "    for i in range(n_pushes, n_pushes + n_lights):\n",
    "        circuit.x(i)\n",
    "    circuit.h(n_pushes + n_lights - 1)\n",
    "    circuit.mcx(list(range(n_pushes, n_pushes + n_lights-1)), n_pushes + n_lights-1)\n",
    "    circuit.h(n_pushes + n_lights - 1)\n",
    "    for i in range(n_pushes, n_pushes + n_lights):\n",
    "        circuit.x(i)\n",
    "\n",
    "    ####    "
   ]
  },
  {
   "cell_type": "markdown",
   "id": "814ec398",
   "metadata": {},
   "source": [
    "#### Exercise 10: Grover Iterations\n",
    "Specify the optimal number of Grover iterations.\n",
    "Hint: The optimal push sequence is '000011001'. Can you find it?"
   ]
  },
  {
   "cell_type": "code",
   "execution_count": null,
   "id": "4f70d755",
   "metadata": {},
   "outputs": [],
   "source": [
    "#import the Qristal core\n",
    "import qristal.core\n",
    "\n",
    "# Specify the optimal number of Grover iterations. Observe how the number of iterations can influence the result.\n",
    "####\n",
    "\n",
    "# Enter your code here!\n",
    "\n",
    "n_iterations = \n",
    "\n",
    "####\n",
    "\n",
    "my_circuit = qristal.core.Circuit()\n",
    "\n",
    "# Prepare the push qubits. We consider all possible combinations of pushes in superposition\n",
    "state_preparation(my_circuit, 9)\n",
    "# Prepare the light board to be switched off\n",
    "prepare_ancillary_state(my_circuit, lights, 9, 9)\n",
    "\n",
    "# Gover iterations: oracle followed by the diffusion setp. Note, that we have to uncompute the push button step!\n",
    "for i in range(n_iterations):\n",
    "    push_buttons(my_circuit, 9, 9, target_tiles_dict)\n",
    "    oracle_light_out(my_circuit, 9, 9)\n",
    "    push_buttons(my_circuit, 9, 9, target_tiles_dict)\n",
    "    diffusion_circuit(my_circuit, 9)   \n",
    "for i in range(9):\n",
    "    my_circuit.measure(i)\n",
    "\n",
    "# Create a quantum computing session using the Qristal SDK\n",
    "my_sim = qristal.core.session()\n",
    "# Set the number of qubits\n",
    "my_sim.qn = 18\n",
    "my_sim.noplacement = True\n",
    "my_sim.nooptimise = True\n",
    "my_sim.output_oqm_enabled = False\n",
    "# We will use the aer simulator\n",
    "my_sim.acc = \"aer\"\n",
    "# Choose how many 'shots' to run through the circuit\n",
    "my_sim.sn = 1000\n",
    "#set the circuit\n",
    "my_sim.irtarget = my_circuit\n",
    "#run the circuit\n",
    "my_sim.run()\n",
    "maxval = 0\n",
    "maxstring = []\n",
    "for bitstring in my_sim.results:\n",
    "    if my_sim.results[bitstring] > maxval:\n",
    "        maxval = my_sim.results[bitstring]\n",
    "        maxstring = bitstring\n",
    "print('The bit string with the most counts is: ', maxstring)\n",
    "print(\"Results:\")\n",
    "print(my_sim.results)\n"
   ]
  },
  {
   "cell_type": "markdown",
   "id": "ffcddb87",
   "metadata": {},
   "source": [
    "## Thank You!\n",
    "Thank you for trying out the Quantum Brilliance Qristal Challenge. Now that you have some hands-on experience, we invite you to take it to the next level by exploring the Qristal SDK, Qristal Emulator and Qristal virtual QPU (vQPU) for yourself."
   ]
  },
  {
   "cell_type": "code",
   "execution_count": null,
   "id": "8b0f01d3",
   "metadata": {},
   "outputs": [],
   "source": []
  }
 ],
 "metadata": {
  "kernelspec": {
   "display_name": "Python 3.11",
   "language": "python",
   "name": "python3.11"
  },
  "language_info": {
   "codemirror_mode": {
    "name": "ipython",
    "version": 3
   },
   "file_extension": ".py",
   "mimetype": "text/x-python",
   "name": "python",
   "nbconvert_exporter": "python",
   "pygments_lexer": "ipython3",
   "version": "3.11.0rc1"
  }
 },
 "nbformat": 4,
 "nbformat_minor": 5
}
